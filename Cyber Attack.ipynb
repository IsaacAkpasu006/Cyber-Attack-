{
 "cells": [
  {
   "cell_type": "code",
   "execution_count": null,
   "id": "0cb2ccf0-63bb-4b19-8e4c-d5149b863485",
   "metadata": {},
   "outputs": [],
   "source": [
    "import numpy as np\n",
    "import pandas as pd\n",
    "import matplotlib.pyplot as plt\n",
    "import seaborn as sb\n"
   ]
  },
  {
   "cell_type": "code",
   "execution_count": null,
   "id": "09525d6d-e0b0-4b4b-a588-89b93b4b0e05",
   "metadata": {},
   "outputs": [],
   "source": [
    "base_color = sb.color_palette\n",
    "year_order = df['year'].value_counts().index\n",
    "location_order = df['Location'].value_counts().index\n",
    "motive_order = df['Motive'].value_counts().index\n",
    "industry_order = df['Industry'].value_counts().index"
   ]
  },
  {
   "cell_type": "code",
   "execution_count": null,
   "id": "d22bf88d-1b16-4556-a9db-3b1e995d6972",
   "metadata": {},
   "outputs": [],
   "source": [
    "#attack frequency by year\n",
    "plt.figure(figsize=(20,8))\n",
    "plt.title(\"Attack Frequency by year\")\n",
    "sb.countplot(data=df, y='year', color=base_color, order=year_order)\n",
    "plt.xticks(rotation=45); \n",
    "\n"
   ]
  },
  {
   "cell_type": "code",
   "execution_count": null,
   "id": "319dbdf6-dec0-4ee8-899f-34ac2e07e150",
   "metadata": {},
   "outputs": [],
   "source": [
    "#attack by industry\n",
    "plt.figure(figsize=(10,6))\n",
    "plt.title(\"Attack Frequency by industry\")\n",
    "sb.countplot(data=df,y='industry', color=base_color, order=year_order)\n",
    "plt.xticks(rotation=15)\n",
    "\n"
   ]
  },
  {
   "cell_type": "code",
   "execution_count": null,
   "id": "a267440b-f66c-49cb-9b75-400822526efc",
   "metadata": {},
   "outputs": [],
   "source": [
    "plt.figure(figsize=(10,5))\n",
    "plt.title(\"Attack Frequency by Motive\")\n",
    "sb.countplot(data=df, y='Motive', color=base_color, order=motive_order)\n",
    "plt.xticks(rotation=15);"
   ]
  }
 ],
 "metadata": {
  "kernelspec": {
   "display_name": "Python 3 (ipykernel)",
   "language": "python",
   "name": "python3"
  },
  "language_info": {
   "codemirror_mode": {
    "name": "ipython",
    "version": 3
   },
   "file_extension": ".py",
   "mimetype": "text/x-python",
   "name": "python",
   "nbconvert_exporter": "python",
   "pygments_lexer": "ipython3",
   "version": "3.12.4"
  }
 },
 "nbformat": 4,
 "nbformat_minor": 5
}
